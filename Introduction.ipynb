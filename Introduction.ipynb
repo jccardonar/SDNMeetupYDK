{
 "cells": [
  {
   "cell_type": "markdown",
   "metadata": {},
   "source": [
    "# Basic connectivity variables.\n",
    "Only change if values of lab are modified."
   ]
  },
  {
   "cell_type": "code",
   "execution_count": 2,
   "metadata": {
    "collapsed": true
   },
   "outputs": [],
   "source": [
    "# Basic connectivity variables.\n",
    "# Only change if values of lab are modified.\n",
    "router = \"192.168.10.4\"\n",
    "port = 830\n",
    "username = \"vagrant\"\n",
    "password = \"vagrant\"\n",
    "protocol = \"ssh\""
   ]
  },
  {
   "cell_type": "code",
   "execution_count": 5,
   "metadata": {
    "collapsed": true
   },
   "outputs": [],
   "source": [
    "from ydk.providers import CodecServiceProvider, NetconfServiceProvider\n",
    "from ydk.services import CRUDService, CodecService\n",
    "# We need to create a provider to connect with the router. \n",
    "# There is a considerable theory behind this step (netconf, restconfg, etc.), \n",
    "# but we'll leave the details aside for this practice.\n",
    "provider = NetconfServiceProvider(address=router,\n",
    "                                      port=port,\n",
    "                                      username=username,\n",
    "                                      password=password, \n",
    "                                      protocol=protocol)\n",
    "crud = CRUDService()\n",
    "\n",
    "# YDK \"binds\" data from/to the router into python objects. \n",
    "# Still, we might want to look at the responses in xml for a quick. The next objects allow us to do that.\n",
    "\n",
    "cd_provider = CodecServiceProvider(type=\"xml\")\n",
    "codec = CodecService()"
   ]
  },
  {
   "cell_type": "code",
   "execution_count": null,
   "metadata": {
    "collapsed": true
   },
   "outputs": [],
   "source": [
    "# In case you want verbose logging, uncomment this lines.\n",
    "#import logging\n",
    "#log = logging.getLogger('ydk')\n",
    "#log.setLevel(logging.DEBUG)\n",
    "#ch = logging.StreamHandler()\n",
    "#log.addHandler(ch)"
   ]
  },
  {
   "cell_type": "markdown",
   "metadata": {},
   "source": [
    "# Read and modify the hostname\n",
    "YDK simplifies many of the steps behind model-base device configuration. Let us start with a simple operation: reading and modifying the hostname of the device.\n",
    "\n",
    "The model we'll use for this is Cisco-IOS-XR-shellutil-cfg. If you are curious of the content of the model, one can  download it from the device or find it at public repositories. This one in particular is in https://github.com/YangModels/yang/blob/master/vendor/cisco/xr/631/Cisco-IOS-XR-shellutil-cfg.yang.\n",
    "\n",
    "Note: We could, more correctly, use Cisco-IOS-XR-shellutil-oper.yang for reading the current hostname. There is indeed a difference between oper and cfg Cisco XR (those changes are reflected on containers wihtin the models for IETF and Openconfig models). We'll ignore that point and leave that part for a more advanced example.\n",
    "\n",
    "The model is part of the pre-compiled libraries of YDK. Reading the values of the model from the router requires us to create an object from the library and pass it as a \"filter\" to a read operation.\n",
    "\n",
    "Using the libraries of YDK might feel uncomftable initially (or of any automatic generated library). However, it becomes more familiar with practice. "
   ]
  },
  {
   "cell_type": "code",
   "execution_count": 7,
   "metadata": {},
   "outputs": [],
   "source": [
    "# Load the shell config library\n",
    "from ydk.models.cisco_ios_xr import Cisco_IOS_XR_shellutil_cfg as xr_shellutil_cfg\n",
    "\n",
    "# Let us create an object. This will be used as filter for the read operation.\n",
    "\n",
    "hostnames=xr_shellutil_cfg.HostNames()\n",
    "\n",
    "# Here we populated with the router data. \n",
    "# This will fail if any issue arises. Do not forget to implement proper error catching code in production.\n",
    "hostname_populated = crud.read(provider, hostnames)"
   ]
  },
  {
   "cell_type": "code",
   "execution_count": 9,
   "metadata": {},
   "outputs": [
    {
     "data": {
      "text/plain": [
       "'test_XR'"
      ]
     },
     "execution_count": 9,
     "metadata": {},
     "output_type": "execute_result"
    }
   ],
   "source": [
    "# We can examine the response using the typical Jupyter facilities (e.g. autocomplete)\n",
    "hostname_populated.host_name"
   ]
  },
  {
   "cell_type": "code",
   "execution_count": 10,
   "metadata": {},
   "outputs": [
    {
     "name": "stdout",
     "output_type": "stream",
     "text": [
      "<host-names xmlns=\"http://cisco.com/ns/yang/Cisco-IOS-XR-shellutil-cfg\">\n",
      "  <host-name>test_XR</host-name>\n",
      "</host-names>\n",
      "\n"
     ]
    }
   ],
   "source": [
    "# We can also see the response using the Codec objects we created before\n",
    "print(codec.encode(cd_provider, hostname_populated))"
   ]
  },
  {
   "cell_type": "markdown",
   "metadata": {},
   "source": [
    "Let us modify the hostname of the router. What we do is to fill the object with the required values and commit it using a create (or update) operation."
   ]
  },
  {
   "cell_type": "code",
   "execution_count": 13,
   "metadata": {},
   "outputs": [],
   "source": [
    "new_hostname=xr_shellutil_cfg.HostNames()\n",
    "new_hostname.host_name=\"test\"\n",
    "\n",
    "crud.update(provider,new_hostname)\n",
    "# No error here would mean that our transaction worked. Check it out in the router."
   ]
  },
  {
   "cell_type": "markdown",
   "metadata": {
    "collapsed": true
   },
   "source": [
    "Try applying a illegal name for the router. See that an error comes and no change is commited."
   ]
  },
  {
   "cell_type": "markdown",
   "metadata": {},
   "source": [
    "# Obtaining a list of interfaces currently configured.\n",
    "We can use the model Cisco_IOS_XR_ifmgr_cfg for this purpose. https://github.com/YangModels/yang/blob/master/vendor/cisco/xr/601/Cisco-IOS-XR-ifmgr-cfg.yang.\n",
    "\n",
    "This will return information about the configured interfaces.\n",
    "Note: I tried to use the operconfig model, which seem to be the more suitable for this case, but it did not work for me (and I needed to make progress). Always try to check with model is better for your case."
   ]
  },
  {
   "cell_type": "code",
   "execution_count": 15,
   "metadata": {
    "collapsed": true
   },
   "outputs": [],
   "source": [
    "from ydk.models.cisco_ios_xr import Cisco_IOS_XR_ifmgr_cfg as xr_ifmgr_cfg\n",
    "interface_configurations = xr_ifmgr_cfg.InterfaceConfigurations()  "
   ]
  },
  {
   "cell_type": "code",
   "execution_count": 23,
   "metadata": {
    "collapsed": true
   },
   "outputs": [],
   "source": [
    "# read data from NETCONF device\n",
    "interfaces = crud.read(provider, interface_configurations)"
   ]
  },
  {
   "cell_type": "code",
   "execution_count": 24,
   "metadata": {},
   "outputs": [
    {
     "data": {
      "text/plain": [
       "'\"Management Interface\"'"
      ]
     },
     "execution_count": 24,
     "metadata": {},
     "output_type": "execute_result"
    }
   ],
   "source": [
    "# We can explore the data we obtained\n",
    "i = interfaces.interface_configuration[0]\n",
    "i.description"
   ]
  },
  {
   "cell_type": "code",
   "execution_count": 25,
   "metadata": {},
   "outputs": [
    {
     "name": "stdout",
     "output_type": "stream",
     "text": [
      "<interface-configurations xmlns=\"http://cisco.com/ns/yang/Cisco-IOS-XR-ifmgr-cfg\">\n",
      "  <interface-configuration>\n",
      "    <active>act</active>\n",
      "    <interface-name>MgmtEth0/RP0/CPU0/0</interface-name>\n",
      "    <description>\"Management Interface\"</description>\n",
      "    <ipv4-network xmlns=\"http://cisco.com/ns/yang/Cisco-IOS-XR-ipv4-io-cfg\">\n",
      "      <addresses>\n",
      "        <dhcp></dhcp>\n",
      "      </addresses>\n",
      "    </ipv4-network>\n",
      "  </interface-configuration>\n",
      "  <interface-configuration>\n",
      "    <active>act</active>\n",
      "    <interface-name>GigabitEthernet0/0/0/0</interface-name>\n",
      "    <ipv4-network xmlns=\"http://cisco.com/ns/yang/Cisco-IOS-XR-ipv4-io-cfg\">\n",
      "      <addresses>\n",
      "        <primary>\n",
      "          <address>192.168.10.4</address>\n",
      "          <netmask>255.255.255.0</netmask>\n",
      "        </primary>\n",
      "      </addresses>\n",
      "    </ipv4-network>\n",
      "  </interface-configuration>\n",
      "</interface-configurations>\n",
      "\n"
     ]
    }
   ],
   "source": [
    "# or visualize it\n",
    "print(codec.encode(cd_provider, interfaces))"
   ]
  },
  {
   "cell_type": "code",
   "execution_count": 26,
   "metadata": {},
   "outputs": [
    {
     "name": "stdout",
     "output_type": "stream",
     "text": [
      "set(['MgmtEth0/RP0/CPU0/0', 'GigabitEthernet0/0/0/0'])\n"
     ]
    }
   ],
   "source": [
    "# Let us get a set of interfaces names\n",
    "available_interfaces = set()\n",
    "for interface_configuration in interfaces.interface_configuration:\n",
    "    interface_name = interface_configuration.interface_name\n",
    "    available_interfaces.add(interface_name)\n",
    "print(available_interfaces)"
   ]
  },
  {
   "cell_type": "markdown",
   "metadata": {
    "collapsed": true
   },
   "source": [
    "# Create a loopback interface with IP 1.1.1.3/32\n",
    "There is no loopback in the router. We might need one. Let us create that as our first task.\n",
    "A possible code to do that is  down. Try to do it first. Use the object we read before as an example.\n",
    "\n",
    "Only one very important hit: you might need to create the interface first, then add the IP. There is a couple of non trivial things to do, so don't get discourage it if you don't get it right. "
   ]
  },
  {
   "cell_type": "code",
   "execution_count": null,
   "metadata": {
    "collapsed": true
   },
   "outputs": [],
   "source": [
    "# Your solution goes here"
   ]
  },
  {
   "cell_type": "code",
   "execution_count": 27,
   "metadata": {
    "collapsed": true
   },
   "outputs": [],
   "source": [
    "# Or check the solution below\n",
    "#\n",
    "#\n",
    "#\n",
    "#\n",
    "#\n",
    "#\n",
    "#\n",
    "#\n",
    "##\n",
    "#\n",
    "#\n",
    "#\n",
    "#\n",
    "#\n",
    "##\n",
    "#\n",
    "#\n",
    "#\n",
    "#\n",
    "#\n",
    "##\n",
    "#\n",
    "#\n",
    "#\n",
    "#\n",
    "#\n",
    "##\n",
    "#\n",
    "#\n",
    "#\n",
    "#\n",
    "#\n",
    "##\n",
    "#\n",
    "#\n",
    "#\n",
    "#\n",
    "#\n",
    "##\n",
    "#\n",
    "#\n",
    "#\n",
    "#\n",
    "#\n",
    "##\n",
    "#\n",
    "#\n",
    "#\n",
    "#\n",
    "#\n",
    "#\n",
    "#\n",
    "#\n",
    "#\n",
    "#\n",
    "#\n",
    "#\n",
    "### the next is the xml produced by the solution. Try to use it instead:\n",
    "temp = \"\"\"\n",
    "<interface-configuration xmlns=\"http://cisco.com/ns/yang/Cisco-IOS-XR-ifmgr-cfg\">\n",
    "  <active>act</active>\n",
    "  <interface-name>Loopback0</interface-name>\n",
    "  <interface-virtual></interface-virtual>\n",
    "  <ipv4-network xmlns=\"http://cisco.com/ns/yang/Cisco-IOS-XR-ipv4-io-cfg\">\n",
    "    <addresses>\n",
    "      <primary>\n",
    "        <address>1.1.1.3</address>\n",
    "        <netmask>255.255.255.255</netmask>\n",
    "      </primary>\n",
    "    </addresses>\n",
    "  </ipv4-network>\n",
    "</interface-configuration>\n",
    "\"\"\""
   ]
  },
  {
   "cell_type": "code",
   "execution_count": 28,
   "metadata": {
    "collapsed": true
   },
   "outputs": [],
   "source": [
    "# Create the interface first\n",
    "from ydk.types import Empty\n",
    "interface_configuration = interface_configurations.InterfaceConfiguration()\n",
    "interface_configuration.active = \"act\"\n",
    "interface_configuration.interface_name = \"Loopback0\"\n",
    "interface_configuration.interface_virtual = Empty() "
   ]
  },
  {
   "cell_type": "code",
   "execution_count": 29,
   "metadata": {},
   "outputs": [
    {
     "name": "stdout",
     "output_type": "stream",
     "text": [
      "<interface-configuration xmlns=\"http://cisco.com/ns/yang/Cisco-IOS-XR-ifmgr-cfg\">\n",
      "  <active>act</active>\n",
      "  <interface-name>Loopback0</interface-name>\n",
      "  <interface-virtual></interface-virtual>\n",
      "</interface-configuration>\n",
      "\n"
     ]
    }
   ],
   "source": [
    "# We can also see our requests, to make sure they are correct.\n",
    "print(codec.encode(cd_provider, interface_configuration))"
   ]
  },
  {
   "cell_type": "code",
   "execution_count": 30,
   "metadata": {
    "collapsed": true
   },
   "outputs": [],
   "source": [
    "# Let us create the Interface\n",
    "crud.create(provider,interface_configuration)"
   ]
  },
  {
   "cell_type": "code",
   "execution_count": 31,
   "metadata": {
    "collapsed": true
   },
   "outputs": [],
   "source": [
    "# Let us add the IP then\n",
    "addresses = interface_configuration.ipv4_network.Addresses()\n",
    "primary = addresses.Primary()\n",
    "primary.address = \"1.1.1.3\"\n",
    "primary.netmask = \"255.255.255.255\"\n",
    "interface_configuration.ipv4_network.addresses.primary = primary\n",
    "\n",
    "addresses.primary = primary\n",
    "\n",
    "interface_configurations.interface_configuration.append(interface_configuration)"
   ]
  },
  {
   "cell_type": "code",
   "execution_count": 32,
   "metadata": {},
   "outputs": [
    {
     "name": "stdout",
     "output_type": "stream",
     "text": [
      "<interface-configuration xmlns=\"http://cisco.com/ns/yang/Cisco-IOS-XR-ifmgr-cfg\">\n",
      "  <active>act</active>\n",
      "  <interface-name>Loopback0</interface-name>\n",
      "  <interface-virtual></interface-virtual>\n",
      "  <ipv4-network xmlns=\"http://cisco.com/ns/yang/Cisco-IOS-XR-ipv4-io-cfg\">\n",
      "    <addresses>\n",
      "      <primary>\n",
      "        <address>1.1.1.3</address>\n",
      "        <netmask>255.255.255.255</netmask>\n",
      "      </primary>\n",
      "    </addresses>\n",
      "  </ipv4-network>\n",
      "</interface-configuration>\n",
      "\n"
     ]
    }
   ],
   "source": [
    "print(codec.encode(cd_provider, interface_configuration))"
   ]
  },
  {
   "cell_type": "code",
   "execution_count": 33,
   "metadata": {
    "collapsed": true
   },
   "outputs": [],
   "source": [
    "# Let us create the Interface\n",
    "crud.create(provider,interface_configuration)"
   ]
  },
  {
   "cell_type": "code",
   "execution_count": 7,
   "metadata": {
    "collapsed": true
   },
   "outputs": [],
   "source": [
    "# If not error was generated, we should have the Loopback ready. \n",
    "# We can repeat the interface listing code from before to test it is the case."
   ]
  },
  {
   "cell_type": "code",
   "execution_count": null,
   "metadata": {
    "collapsed": true
   },
   "outputs": [],
   "source": []
  }
 ],
 "metadata": {
  "kernelspec": {
   "display_name": "Python 2",
   "language": "python",
   "name": "python2"
  },
  "language_info": {
   "codemirror_mode": {
    "name": "ipython",
    "version": 2
   },
   "file_extension": ".py",
   "mimetype": "text/x-python",
   "name": "python",
   "nbconvert_exporter": "python",
   "pygments_lexer": "ipython2",
   "version": "2.7.6"
  }
 },
 "nbformat": 4,
 "nbformat_minor": 2
}
