{
 "cells": [
  {
   "cell_type": "markdown",
   "metadata": {},
   "source": [
    "# Basic connectivity variables.\n",
    "Only change them if values of lab are modified."
   ]
  },
  {
   "cell_type": "code",
   "execution_count": 2,
   "metadata": {
    "collapsed": true
   },
   "outputs": [],
   "source": [
    "# Basic connectivity variables.\n",
    "# Only change if values of lab are modified.\n",
    "router = \"192.168.10.4\"\n",
    "port = 830\n",
    "username = \"vagrant\"\n",
    "password = \"vagrant\"\n",
    "protocol = \"ssh\""
   ]
  },
  {
   "cell_type": "code",
   "execution_count": 3,
   "metadata": {
    "collapsed": true
   },
   "outputs": [],
   "source": [
    "from ydk.providers import CodecServiceProvider, NetconfServiceProvider\n",
    "from ydk.services import CRUDService, CodecService\n",
    "# We need to create a provider to connect with the router. \n",
    "# There is a considerable theory behind this step (netconf, restconfg, etc.), \n",
    "# but we'll leave the details aside for this practice.\n",
    "provider = NetconfServiceProvider(address=router,\n",
    "                                      port=port,\n",
    "                                      username=username,\n",
    "                                      password=password, \n",
    "                                      protocol=protocol)\n",
    "crud = CRUDService()\n",
    "\n",
    "# YDK \"binds\" data from/to the router into python objects. \n",
    "# Still, we might want to look at the responses in xml for a quick. The next objects allow us to do that.\n",
    "\n",
    "cd_provider = CodecServiceProvider(type=\"xml\")\n",
    "codec = CodecService()"
   ]
  },
  {
   "cell_type": "code",
   "execution_count": null,
   "metadata": {
    "collapsed": true
   },
   "outputs": [],
   "source": [
    "# In case you want verbose logging, uncomment this lines.\n",
    "#import logging\n",
    "#log = logging.getLogger('ydk')\n",
    "#log.setLevel(logging.DEBUG)\n",
    "#ch = logging.StreamHandler()\n",
    "#log.addHandler(ch)"
   ]
  },
  {
   "cell_type": "markdown",
   "metadata": {},
   "source": [
    "# BGP Configuration\n",
    "We'll have a twist in this task and we will be using one of the openconfig modules: openconfig_bgp (https://github.com/openconfig/public/blob/master/release/models/bgp/openconfig-bgp.yang)\n",
    "\n",
    "Note: We could probably use one of the XR models: Cisco_IOS_XR_ipv4_bgp_cfg and Cisco_IOS_XR_ipv4_bgp_datatypes . Try them out if you want, it should lead to the same result."
   ]
  },
  {
   "cell_type": "code",
   "execution_count": 4,
   "metadata": {
    "collapsed": true
   },
   "outputs": [],
   "source": [
    "from ydk.models.openconfig import openconfig_bgp \\\n",
    "    as oc_bgp\n",
    "from ydk.models.openconfig import openconfig_bgp_types as oc_bgp_types\n",
    "from ydk.types import Empty"
   ]
  },
  {
   "cell_type": "markdown",
   "metadata": {},
   "source": [
    "As with the other exercises, you can configure the router first, read the configuration and learn how to fill the objects using it."
   ]
  },
  {
   "cell_type": "code",
   "execution_count": 12,
   "metadata": {
    "collapsed": true
   },
   "outputs": [],
   "source": [
    "bgp = xr_ipv4_bgp_cfg.Bgp()  # create object\n",
    "# read data from NETCONF device. This will be empty if you did not configure BGP.\n",
    "bgp_read = crud.read(provider, bgp)\n",
    "#print(codec.encode(cd_provider, bgp_read))"
   ]
  },
  {
   "cell_type": "markdown",
   "metadata": {},
   "source": [
    "Now, try to configure BGP on the router using objects. If you want to make it compatible with the quagga router, please use values that match its configuration (ASN, source interface, etc.)\n",
    "\n",
    "A potential solution for this excesise is down. Please note the the solution requires you to have configured the Loopback in the router."
   ]
  },
  {
   "cell_type": "code",
   "execution_count": null,
   "metadata": {
    "collapsed": true
   },
   "outputs": [],
   "source": [
    "# Your solution goes here\n",
    "#\n",
    "#\n",
    "#\n",
    "#\n",
    "#\n",
    "#\n",
    "#\n",
    "#\n",
    "#\n",
    "#\n",
    "#\n",
    "#\n",
    "#\n",
    "#\n",
    "#\n",
    "#\n",
    "#\n",
    "#"
   ]
  },
  {
   "cell_type": "code",
   "execution_count": null,
   "metadata": {},
   "outputs": [],
   "source": []
  },
  {
   "cell_type": "code",
   "execution_count": null,
   "metadata": {},
   "outputs": [],
   "source": []
  },
  {
   "cell_type": "code",
   "execution_count": 21,
   "metadata": {
    "collapsed": true
   },
   "outputs": [],
   "source": [
    "bgp = oc_bgp.Bgp()  # create object\n",
    "bgp.global_.config.as_ = 65001\n",
    "bgp.global_.config.router_id = \"1.1.1.3\"\n",
    "afi_safi = bgp.global_.afi_safis.AfiSafi()\n",
    "afi_safi.afi_safi_name = oc_bgp_types.Ipv4UnicastIdentity()\n",
    "afi_safi.config.afi_safi_name = oc_bgp_types.Ipv4UnicastIdentity()\n",
    "afi_safi.config.enabled = True\n",
    "bgp.global_.afi_safis.afi_safi.append(afi_safi)\n",
    "\n",
    "# configure IBGP neighbor\n",
    "neighbor = bgp.neighbors.Neighbor()\n",
    "neighbor.neighbor_address = \"1.1.1.1\"\n",
    "neighbor.config.neighbor_address = \"1.1.1.1\"\n",
    "neighbor.config.peer_as = 65001\n",
    "neighbor.transport.config.local_address = \"Loopback0\"\n",
    "afi_safi = neighbor.afi_safis.AfiSafi()\n",
    "afi_safi.afi_safi_name = oc_bgp_types.Ipv4UnicastIdentity()\n",
    "afi_safi.config.afi_safi_name = oc_bgp_types.Ipv4UnicastIdentity()\n",
    "afi_safi.config.enabled = True\n",
    "#afi_safi.apply_policy.config.export_policy.append(\"POLICY2\")\n",
    "neighbor.afi_safis.afi_safi.append(afi_safi)\n",
    "\n",
    "bgp.neighbors.neighbor.append(neighbor)"
   ]
  },
  {
   "cell_type": "code",
   "execution_count": null,
   "metadata": {},
   "outputs": [],
   "source": [
    "crud.create(provider, bgp)"
   ]
  },
  {
   "cell_type": "code",
   "execution_count": null,
   "metadata": {
    "collapsed": true
   },
   "outputs": [],
   "source": []
  },
  {
   "cell_type": "code",
   "execution_count": null,
   "metadata": {
    "collapsed": true
   },
   "outputs": [],
   "source": []
  }
 ],
 "metadata": {
  "kernelspec": {
   "display_name": "Python 2",
   "language": "python",
   "name": "python2"
  },
  "language_info": {
   "codemirror_mode": {
    "name": "ipython",
    "version": 2
   },
   "file_extension": ".py",
   "mimetype": "text/x-python",
   "name": "python",
   "nbconvert_exporter": "python",
   "pygments_lexer": "ipython2",
   "version": "2.7.10"
  }
 },
 "nbformat": 4,
 "nbformat_minor": 2
}
