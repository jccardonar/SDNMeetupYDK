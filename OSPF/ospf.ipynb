{
 "cells": [
  {
   "cell_type": "markdown",
   "metadata": {},
   "source": [
    "# Basic connectivity variables.\n",
    "Only change them if values of lab are modified."
   ]
  },
  {
   "cell_type": "code",
   "execution_count": 1,
   "metadata": {
    "collapsed": true
   },
   "outputs": [],
   "source": [
    "# Basic connectivity variables.\n",
    "# Only change if values of lab are modified.\n",
    "router = \"192.168.10.4\"\n",
    "port = 830\n",
    "username = \"vagrant\"\n",
    "password = \"vagrant\"\n",
    "protocol = \"ssh\""
   ]
  },
  {
   "cell_type": "code",
   "execution_count": 2,
   "metadata": {
    "collapsed": true
   },
   "outputs": [],
   "source": [
    "from ydk.providers import CodecServiceProvider, NetconfServiceProvider\n",
    "from ydk.services import CRUDService, CodecService\n",
    "# We need to create a provider to connect with the router. \n",
    "# There is a considerable theory behind this step (netconf, restconfg, etc.), \n",
    "# but we'll leave the details aside for this practice.\n",
    "provider = NetconfServiceProvider(address=router,\n",
    "                                      port=port,\n",
    "                                      username=username,\n",
    "                                      password=password, \n",
    "                                      protocol=protocol)\n",
    "crud = CRUDService()\n",
    "\n",
    "# YDK \"binds\" data from/to the router into python objects. \n",
    "# Still, we might want to look at the responses in xml for a quick. The next objects allow us to do that.\n",
    "\n",
    "cd_provider = CodecServiceProvider(type=\"xml\")\n",
    "codec = CodecService()"
   ]
  },
  {
   "cell_type": "code",
   "execution_count": null,
   "metadata": {
    "collapsed": true
   },
   "outputs": [],
   "source": [
    "# In case you want verbose logging, uncomment this lines.\n",
    "#import logging\n",
    "#log = logging.getLogger('ydk')\n",
    "#log.setLevel(logging.DEBUG)\n",
    "#ch = logging.StreamHandler()\n",
    "#log.addHandler(ch)"
   ]
  },
  {
   "cell_type": "markdown",
   "metadata": {},
   "source": [
    "# OSPF Configuration \n",
    "The module to use here will be Cisco-IOS-XR-ipv4-ospf-cfg.yang (https://github.com/YangModels/yang/blob/master/vendor/cisco/xr/611/Cisco-IOS-XR-ipv4-ospf-cfg.yang).\n",
    "\n",
    "If you want help, you can configure OSPF yourselves and see how the objects are created. You can also  look at the solution below.\n"
   ]
  },
  {
   "cell_type": "code",
   "execution_count": 3,
   "metadata": {
    "collapsed": true
   },
   "outputs": [],
   "source": [
    "from ydk.models.cisco_ios_xr import Cisco_IOS_XR_ipv4_ospf_cfg as xr_ipv4_ospf_cfg\n",
    "# You will also need the next two.\n",
    "from ydk.types import Empty\n",
    "ospf = xr_ipv4_ospf_cfg.Ospf()  # create object\n",
    "\n",
    "# read data from NETCONF device. This will be empty if you did not configure OSPF.\n",
    "ospf = crud.read(provider, ospf)"
   ]
  },
  {
   "cell_type": "markdown",
   "metadata": {},
   "source": [
    "Now,  try to configure OSPF on the router. If you want to test the configuration using the quagga router, please use a compatible configuration (i.e. Net and level type).\n",
    "\n",
    "A potential solution for this excesise is down. Please note the the solution requires you to have configured the Loopback in the router."
   ]
  },
  {
   "cell_type": "code",
   "execution_count": 7,
   "metadata": {
    "collapsed": true
   },
   "outputs": [],
   "source": [
    "# Your solution goes here\n",
    "#\n",
    "#\n",
    "#\n",
    "#\n",
    "#\n",
    "#\n",
    "#\n",
    "#\n",
    "#\n",
    "#\n",
    "#\n",
    "#\n",
    "#\n",
    "#\n",
    "#\n",
    "#\n",
    "#\n",
    "#\n",
    "# \n",
    "#\n",
    "#\n",
    "#\n",
    "#\n",
    "#\n",
    "#\n",
    "## \n",
    "#\n",
    "#\n",
    "#\n",
    "#\n",
    "#\n",
    "#\n",
    "## \n",
    "#\n",
    "#\n",
    "#\n",
    "#\n",
    "#\n",
    "#\n",
    "## \n",
    "#\n",
    "#\n",
    "#\n",
    "#\n",
    "#\n",
    "#\n",
    "## \n",
    "#\n",
    "#\n",
    "#\n",
    "#\n",
    "#\n",
    "#\n",
    "## \n",
    "#\n",
    "#\n",
    "#\n",
    "#\n",
    "#\n",
    "#\n",
    "#\n",
    "# The xml for the solution is below. Try to use it before cheating with the code :)\n",
    "temp = '''\n",
    "<process xmlns=\"http://cisco.com/ns/yang/Cisco-IOS-XR-ipv4-ospf-cfg\">\n",
    "  <process-name>sdn</process-name>\n",
    "  <default-vrf>\n",
    "    <area-addresses>\n",
    "      <area-area-id>\n",
    "        <area-id>0</area-id>\n",
    "        <name-scopes>\n",
    "          <name-scope>\n",
    "            <interface-name>Loopback0</interface-name>\n",
    "            <passive>true</passive>\n",
    "            <running></running>\n",
    "          </name-scope>\n",
    "          <name-scope>\n",
    "            <interface-name>GigabitEthernet0/0/0/0</interface-name>\n",
    "            <network-type>point-to-point</network-type>\n",
    "            <running></running>\n",
    "          </name-scope>\n",
    "        </name-scopes>\n",
    "        <running></running>\n",
    "      </area-area-id>\n",
    "    </area-addresses>\n",
    "    <router-id>1.1.1.3</router-id>\n",
    "  </default-vrf>\n",
    "  <start></start>\n",
    "</process>\n",
    "'''"
   ]
  },
  {
   "cell_type": "markdown",
   "metadata": {},
   "source": [
    "The solution will only work if we configured the loopback in the previous exercise"
   ]
  },
  {
   "cell_type": "code",
   "execution_count": 4,
   "metadata": {
    "collapsed": true
   },
   "outputs": [],
   "source": [
    "ospf = xr_ipv4_ospf_cfg.Ospf() # create object\n",
    "process = ospf.processes.Process()\n",
    "process.process_name = \"sdn\"\n",
    "# Note that the loopback should have \n",
    "process.default_vrf.router_id = \"1.1.1.3\"\n",
    "process.start = Empty()\n",
    "\n",
    "# Area 0\n",
    "area_area_id = process.default_vrf.area_addresses.AreaAreaId()\n",
    "area_area_id.area_id = 0\n",
    "area_area_id.running = Empty()\n",
    "\n",
    "# loopback interface passive\n",
    "name_scope = area_area_id.name_scopes.NameScope()\n",
    "name_scope.interface_name = \"Loopback0\"\n",
    "name_scope.running = Empty()\n",
    "name_scope.passive = True\n",
    "area_area_id.name_scopes.name_scope.append(name_scope)\n",
    "\n",
    "# gi0/0/0/0 interface\n",
    "name_scope = area_area_id.name_scopes.NameScope()\n",
    "name_scope.interface_name = \"GigabitEthernet0/0/0/0\"\n",
    "name_scope.running = Empty()\n",
    "# Note we'll do point to point, this should match with the configuration in quagga.\n",
    "name_scope.network_type = xr_ipv4_ospf_cfg.OspfNetworkEnum.point_to_point\n",
    "area_area_id.name_scopes.name_scope.append(name_scope)\n",
    "process.default_vrf.area_addresses.area_area_id.append(area_area_id)\n"
   ]
  },
  {
   "cell_type": "code",
   "execution_count": 6,
   "metadata": {},
   "outputs": [
    {
     "name": "stdout",
     "output_type": "stream",
     "text": [
      "<process xmlns=\"http://cisco.com/ns/yang/Cisco-IOS-XR-ipv4-ospf-cfg\">\n",
      "  <process-name>sdn</process-name>\n",
      "  <default-vrf>\n",
      "    <area-addresses>\n",
      "      <area-area-id>\n",
      "        <area-id>0</area-id>\n",
      "        <name-scopes>\n",
      "          <name-scope>\n",
      "            <interface-name>Loopback0</interface-name>\n",
      "            <passive>true</passive>\n",
      "            <running></running>\n",
      "          </name-scope>\n",
      "          <name-scope>\n",
      "            <interface-name>GigabitEthernet0/0/0/0</interface-name>\n",
      "            <network-type>point-to-point</network-type>\n",
      "            <running></running>\n",
      "          </name-scope>\n",
      "        </name-scopes>\n",
      "        <running></running>\n",
      "      </area-area-id>\n",
      "    </area-addresses>\n",
      "    <router-id>1.1.1.3</router-id>\n",
      "  </default-vrf>\n",
      "  <start></start>\n",
      "</process>\n",
      "\n"
     ]
    }
   ],
   "source": [
    "print(codec.encode(cd_provider, process))"
   ]
  },
  {
   "cell_type": "code",
   "execution_count": 9,
   "metadata": {
    "collapsed": true
   },
   "outputs": [],
   "source": [
    "ospf_response = crud.create(provider, process)"
   ]
  },
  {
   "cell_type": "code",
   "execution_count": null,
   "metadata": {
    "collapsed": true
   },
   "outputs": [],
   "source": []
  }
 ],
 "metadata": {
  "kernelspec": {
   "display_name": "Python 2",
   "language": "python",
   "name": "python2"
  },
  "language_info": {
   "codemirror_mode": {
    "name": "ipython",
    "version": 2
   },
   "file_extension": ".py",
   "mimetype": "text/x-python",
   "name": "python",
   "nbconvert_exporter": "python",
   "pygments_lexer": "ipython2",
   "version": "2.7.10"
  }
 },
 "nbformat": 4,
 "nbformat_minor": 2
}
