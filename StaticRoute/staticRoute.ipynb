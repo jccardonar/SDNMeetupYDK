{
 "cells": [
  {
   "cell_type": "markdown",
   "metadata": {
    "collapsed": true
   },
   "source": [
    "# Creating a static route in the router.\n",
    "To make the exercise useful, the server should have an IP that is not reachable by the router. Create it by running:\n",
    "\n",
    "`sudo ifconfig lo:2  1.1.1.1 netmask 255.255.255.255 up`\n",
    "\n",
    "Test that the IP is not reachable by the router (a ping will do)."
   ]
  },
  {
   "cell_type": "markdown",
   "metadata": {},
   "source": [
    "## This is the common starting code."
   ]
  },
  {
   "cell_type": "code",
   "execution_count": 1,
   "metadata": {
    "collapsed": true
   },
   "outputs": [],
   "source": [
    "# Basic connectivity variables.\n",
    "# Only change if values of lab are modified.\n",
    "router = \"192.168.10.4\"\n",
    "port = 830\n",
    "username = \"vagrant\"\n",
    "password = \"vagrant\"\n",
    "protocol = \"ssh\""
   ]
  },
  {
   "cell_type": "code",
   "execution_count": 2,
   "metadata": {
    "collapsed": true
   },
   "outputs": [],
   "source": [
    "from ydk.providers import CodecServiceProvider, NetconfServiceProvider\n",
    "from ydk.services import CRUDService, CodecService\n",
    "# We need to create a provider to connect with the router. \n",
    "# There is a considerable theory behind this step (netconf, restconfg, etc.), \n",
    "# but we'll leave the details aside for this practice.\n",
    "provider = NetconfServiceProvider(address=router,\n",
    "                                      port=port,\n",
    "                                      username=username,\n",
    "                                      password=password, \n",
    "                                      protocol=protocol)\n",
    "crud = CRUDService()\n",
    "\n",
    "# YDK \"binds\" data from/to the router into python objects. \n",
    "# Still, we might want to look at the responses in xml for a quick. The next objects allow us to do that.\n",
    "\n",
    "cd_provider = CodecServiceProvider(type=\"xml\")\n",
    "codec = CodecService()\n",
    "# In case you want verbose logging, uncomment this lines.\n",
    "#import logging\n",
    "#log = logging.getLogger('ydk')\n",
    "#log.setLevel(logging.DEBUG)\n",
    "#ch = logging.StreamHandler()\n",
    "#log.addHandler(ch)"
   ]
  },
  {
   "cell_type": "markdown",
   "metadata": {},
   "source": [
    "# Deleting the default static route\n",
    "The router has a default route pointing to server, which makes this whole practice boring. Let us erase it first. This  is dangerously easy to do (don't do it in production, except if you know what you are doing).\n",
    "We'll use the model Cisco_IOS_XR_ip_static_cfg for static routes. Check it at https://github.com/YangModels/yang/blob/master/vendor/cisco/xr/531/Cisco-IOS-XR-ip-static-cfg.yang."
   ]
  },
  {
   "cell_type": "code",
   "execution_count": 4,
   "metadata": {
    "collapsed": true
   },
   "outputs": [],
   "source": [
    "from ydk.models.cisco_ios_xr import Cisco_IOS_XR_ip_static_cfg as xr_ip_static_cfg"
   ]
  },
  {
   "cell_type": "code",
   "execution_count": 4,
   "metadata": {
    "collapsed": true
   },
   "outputs": [],
   "source": [
    "crud.delete(provider,xr_ip_static_cfg.RouterStatic())"
   ]
  },
  {
   "cell_type": "markdown",
   "metadata": {},
   "source": [
    "Now, get into the router and check that we cannot ping the IP we just created."
   ]
  },
  {
   "cell_type": "markdown",
   "metadata": {},
   "source": [
    "# Configuring a static route"
   ]
  },
  {
   "cell_type": "markdown",
   "metadata": {
    "collapsed": true
   },
   "source": [
    "A proposed code to solve this is below. Try to do it yourself first.\n",
    "\n",
    "It is normal to not know how to tacke this problem without help. If you do not know how to configure something from scratch, one can:\n",
    "\n",
    "- Configure directly on the router, read, and then see how the objects look like.\n",
    "- Check any of the tutorials on the YDK page. They cover most of the simple cases \n",
    "\n",
    "To be honest, most of the code in this tasks was taken from YDK examples\n",
    "\n",
    "If you want to configure the static route in the router and then read it, you can use the next code (although you should be able to do this by now). If you run it without configuring it, it will come up empty. To erase the route, just re-run the line in the previous section."
   ]
  },
  {
   "cell_type": "code",
   "execution_count": null,
   "metadata": {},
   "outputs": [],
   "source": [
    "static_routes=crud.read(provider,xr_ip_static_cfg.RouterStatic()) \n",
    "# remember this will return empty if no static route exists\n",
    "print(codec.encode(cd_provider, static_routes))"
   ]
  },
  {
   "cell_type": "code",
   "execution_count": null,
   "metadata": {
    "collapsed": true
   },
   "outputs": [],
   "source": []
  },
  {
   "cell_type": "code",
   "execution_count": null,
   "metadata": {
    "collapsed": true
   },
   "outputs": [],
   "source": [
    "# Your code goes here"
   ]
  },
  {
   "cell_type": "code",
   "execution_count": 8,
   "metadata": {
    "collapsed": true
   },
   "outputs": [],
   "source": [
    "# Solution is below\n",
    "#\n",
    "#\n",
    "#\n",
    "#\n",
    "#\n",
    "#\n",
    "#\n",
    "#\n",
    "#\n",
    "#\n",
    "#\n",
    "#\n",
    "#\n",
    "#\n",
    "#\n",
    "# #\n",
    "#\n",
    "#\n",
    "#\n",
    "#\n",
    "#\n",
    "#\n",
    "#\n",
    "#\n",
    "##\n",
    "#\n",
    "#\n",
    "#\n",
    "#\n",
    "#\n",
    "#\n",
    "#\n",
    "#\n",
    "##\n",
    "#\n",
    "#\n",
    "#\n",
    "#\n",
    "#\n",
    "#\n",
    "#\n",
    "#\n",
    "##\n",
    "#\n",
    "#\n",
    "#\n",
    "#\n",
    "#\n",
    "#\n",
    "#\n",
    "#\n",
    "##\n",
    "#\n",
    "#\n",
    "#\n",
    "#\n",
    "#\n",
    "#\n",
    "#\n",
    "#\n",
    "#\n",
    "# Instead of the solution, try to use the xml output as guide.\n",
    "temp = '''\n",
    "<router-static xmlns=\"http://cisco.com/ns/yang/Cisco-IOS-XR-ip-static-cfg\">\n",
    "  <default-vrf>\n",
    "    <address-family>\n",
    "      <vrfipv4>\n",
    "        <vrf-unicast>\n",
    "          <vrf-prefixes>\n",
    "            <vrf-prefix>\n",
    "              <prefix>1.1.1.1</prefix>\n",
    "              <prefix-length>32</prefix-length>\n",
    "              <vrf-route>\n",
    "                <vrf-next-hop-table>\n",
    "                  <vrf-next-hop-next-hop-address>\n",
    "                    <next-hop-address>192.168.10.5</next-hop-address>\n",
    "                  </vrf-next-hop-next-hop-address>\n",
    "                </vrf-next-hop-table>\n",
    "              </vrf-route>\n",
    "            </vrf-prefix>\n",
    "          </vrf-prefixes>\n",
    "        </vrf-unicast>\n",
    "      </vrfipv4>\n",
    "    </address-family>\n",
    "  </default-vrf>\n",
    "</router-static>\n",
    "'''"
   ]
  },
  {
   "cell_type": "code",
   "execution_count": 9,
   "metadata": {
    "collapsed": true
   },
   "outputs": [],
   "source": [
    "new_route_static = xr_ip_static_cfg.RouterStatic() # create object static route\n",
    "\n",
    "vrf_unicast = new_route_static.default_vrf.address_family.vrfipv4.vrf_unicast\n",
    "\n",
    "vrf_prefix = vrf_unicast.vrf_prefixes.VrfPrefix()\n",
    "vrf_prefix.prefix = \"1.1.1.1\"\n",
    "vrf_prefix.prefix_length = 32\n",
    "\n",
    "vrf_next_hop_next_hop_address = vrf_prefix.vrf_route.vrf_next_hop_table.VrfNextHopNextHopAddress()\n",
    "vrf_next_hop_next_hop_address.next_hop_address = \"192.168.10.5\"\n",
    "vrf_prefix.vrf_route.vrf_next_hop_table.vrf_next_hop_next_hop_address.append(vrf_next_hop_next_hop_address)\n",
    "vrf_unicast.vrf_prefixes.vrf_prefix.append(vrf_prefix)"
   ]
  },
  {
   "cell_type": "code",
   "execution_count": 10,
   "metadata": {},
   "outputs": [
    {
     "name": "stdout",
     "output_type": "stream",
     "text": [
      "<router-static xmlns=\"http://cisco.com/ns/yang/Cisco-IOS-XR-ip-static-cfg\">\n",
      "  <default-vrf>\n",
      "    <address-family>\n",
      "      <vrfipv4>\n",
      "        <vrf-unicast>\n",
      "          <vrf-prefixes>\n",
      "            <vrf-prefix>\n",
      "              <prefix>1.1.1.1</prefix>\n",
      "              <prefix-length>32</prefix-length>\n",
      "              <vrf-route>\n",
      "                <vrf-next-hop-table>\n",
      "                  <vrf-next-hop-next-hop-address>\n",
      "                    <next-hop-address>192.168.10.5</next-hop-address>\n",
      "                  </vrf-next-hop-next-hop-address>\n",
      "                </vrf-next-hop-table>\n",
      "              </vrf-route>\n",
      "            </vrf-prefix>\n",
      "          </vrf-prefixes>\n",
      "        </vrf-unicast>\n",
      "      </vrfipv4>\n",
      "    </address-family>\n",
      "  </default-vrf>\n",
      "</router-static>\n",
      "\n"
     ]
    }
   ],
   "source": [
    "# Check the data using xml.\n",
    "print(codec.encode(cd_provider, new_route_static))"
   ]
  },
  {
   "cell_type": "code",
   "execution_count": 11,
   "metadata": {
    "collapsed": true
   },
   "outputs": [],
   "source": [
    "crud.create(provider, new_route_static)"
   ]
  },
  {
   "cell_type": "code",
   "execution_count": null,
   "metadata": {
    "collapsed": true
   },
   "outputs": [],
   "source": [
    "# Check in the router that the static route exists."
   ]
  },
  {
   "cell_type": "code",
   "execution_count": null,
   "metadata": {
    "collapsed": true
   },
   "outputs": [],
   "source": [
    "# After finishing this. Let us repeat the exercise but using ansible to automatite it. Check file for details."
   ]
  }
 ],
 "metadata": {
  "kernelspec": {
   "display_name": "Python 2",
   "language": "python",
   "name": "python2"
  },
  "language_info": {
   "codemirror_mode": {
    "name": "ipython",
    "version": 2
   },
   "file_extension": ".py",
   "mimetype": "text/x-python",
   "name": "python",
   "nbconvert_exporter": "python",
   "pygments_lexer": "ipython2",
   "version": "2.7.6"
  }
 },
 "nbformat": 4,
 "nbformat_minor": 2
}
