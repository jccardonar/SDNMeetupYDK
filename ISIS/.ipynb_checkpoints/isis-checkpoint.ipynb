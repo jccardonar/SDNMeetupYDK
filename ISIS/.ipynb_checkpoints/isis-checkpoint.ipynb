{
 "cells": [
  {
   "cell_type": "markdown",
   "metadata": {},
   "source": [
    "# Basic connectivity variables.\n",
    "Only change them if values of lab are modified."
   ]
  },
  {
   "cell_type": "code",
   "execution_count": 1,
   "metadata": {
    "collapsed": true
   },
   "outputs": [],
   "source": [
    "# Basic connectivity variables.\n",
    "# Only change if values of lab are modified.\n",
    "router = \"192.168.10.4\"\n",
    "port = 830\n",
    "username = \"vagrant\"\n",
    "password = \"vagrant\"\n",
    "protocol = \"ssh\""
   ]
  },
  {
   "cell_type": "code",
   "execution_count": 2,
   "metadata": {
    "collapsed": true
   },
   "outputs": [],
   "source": [
    "from ydk.providers import CodecServiceProvider, NetconfServiceProvider\n",
    "from ydk.services import CRUDService, CodecService\n",
    "# We need to create a provider to connect with the router. \n",
    "# There is a considerable theory behind this step (netconf, restconfg, etc.), \n",
    "# but we'll leave the details aside for this practice.\n",
    "provider = NetconfServiceProvider(address=router,\n",
    "                                      port=port,\n",
    "                                      username=username,\n",
    "                                      password=password, \n",
    "                                      protocol=protocol)\n",
    "crud = CRUDService()\n",
    "\n",
    "# YDK \"binds\" data from/to the router into python objects. \n",
    "# Still, we might want to look at the responses in xml for a quick. The next objects allow us to do that.\n",
    "\n",
    "cd_provider = CodecServiceProvider(type=\"xml\")\n",
    "codec = CodecService()"
   ]
  },
  {
   "cell_type": "code",
   "execution_count": null,
   "metadata": {
    "collapsed": true
   },
   "outputs": [],
   "source": [
    "# In case you want verbose logging, uncomment this lines.\n",
    "#import logging\n",
    "#log = logging.getLogger('ydk')\n",
    "#log.setLevel(logging.DEBUG)\n",
    "#ch = logging.StreamHandler()\n",
    "#log.addHandler(ch)"
   ]
  },
  {
   "cell_type": "markdown",
   "metadata": {},
   "source": [
    "# ISIS Configuration\n",
    "The procedure to configure ISIS should be similar to previous ones. \n",
    "The module to use here will be Cisco_IOS_XR_clns_isis_cfg (https://github.com/YangModels/yang/blob/master/vendor/cisco/xr/611/Cisco-IOS-XR-clns-isis-cfg.yang).\n",
    "\n",
    "There are a couple of objects of non-intuitive objects that you fill in this exercise. If you want to cheat, you can configure ISIS yourselves and see how the objects are created, or look the solution down.\n"
   ]
  },
  {
   "cell_type": "code",
   "execution_count": 5,
   "metadata": {
    "collapsed": true
   },
   "outputs": [],
   "source": [
    "from ydk.models.cisco_ios_xr import Cisco_IOS_XR_clns_isis_cfg \\\n",
    "as xr_clns_isis_cfg\n",
    "# You will also need the next two.\n",
    "from ydk.types import Empty\n",
    "from ydk.models.cisco_ios_xr import Cisco_IOS_XR_clns_isis_datatypes \\\n",
    "as xr_clns_isis_datatypes \n",
    "isis = xr_clns_isis_cfg.Isis()  # create object\n",
    "\n",
    "# read data from NETCONF device. This will be empty if you did not configure ISIS.\n",
    "isis = crud.read(provider, isis)"
   ]
  },
  {
   "cell_type": "markdown",
   "metadata": {},
   "source": [
    "Now,  try to configure ISIS on the router. If you want to test the configuration using the quagga router, please use a compatible configuration (i.e. Net and level type).\n",
    "\n",
    "A potential solution for this excesise is down. Please note the the solution requires you to have configured the Loopback in the router."
   ]
  },
  {
   "cell_type": "code",
   "execution_count": 9,
   "metadata": {
    "collapsed": true
   },
   "outputs": [],
   "source": [
    "# Your solution goes here\n",
    "#\n",
    "#\n",
    "#\n",
    "#\n",
    "#\n",
    "#\n",
    "#\n",
    "#\n",
    "#\n",
    "#\n",
    "#\n",
    "#\n",
    "#\n",
    "#\n",
    "#\n",
    "#\n",
    "#\n",
    "#\n",
    "#\n",
    "#\n",
    "#\n",
    "# As with the other exercises, try to use the xml before the actual solution.\n",
    "temp = '''\n",
    "<instances xmlns=\"http://cisco.com/ns/yang/Cisco-IOS-XR-clns-isis-cfg\">\n",
    "  <instance>\n",
    "    <instance-name>sdn</instance-name>\n",
    "    <afs>\n",
    "      <af>\n",
    "        <af-name>ipv4</af-name>\n",
    "        <saf-name>unicast</saf-name>\n",
    "        <af-data>\n",
    "          <metric-styles>\n",
    "            <metric-style>\n",
    "              <level>not-set</level>\n",
    "              <style>new-metric-style</style>\n",
    "              <transition-state>disabled</transition-state>\n",
    "            </metric-style>\n",
    "          </metric-styles>\n",
    "        </af-data>\n",
    "      </af>\n",
    "    </afs>\n",
    "    <interfaces>\n",
    "      <interface>\n",
    "        <interface-name>Loopback0</interface-name>\n",
    "        <interface-afs>\n",
    "          <interface-af>\n",
    "            <af-name>ipv4</af-name>\n",
    "            <saf-name>unicast</saf-name>\n",
    "            <interface-af-data>\n",
    "              <running></running>\n",
    "            </interface-af-data>\n",
    "          </interface-af>\n",
    "        </interface-afs>\n",
    "        <running></running>\n",
    "      </interface>\n",
    "      <interface>\n",
    "        <interface-name>GigabitEthernet0/0/0/0</interface-name>\n",
    "        <interface-afs>\n",
    "          <interface-af>\n",
    "            <af-name>ipv4</af-name>\n",
    "            <saf-name>unicast</saf-name>\n",
    "            <interface-af-data>\n",
    "              <running></running>\n",
    "            </interface-af-data>\n",
    "          </interface-af>\n",
    "        </interface-afs>\n",
    "        <running></running>\n",
    "      </interface>\n",
    "    </interfaces>\n",
    "    <is-type>level1</is-type>\n",
    "    <nets>\n",
    "      <net>\n",
    "        <net-name>49.0000.1720.1625.5101.00</net-name>\n",
    "      </net>\n",
    "    </nets>\n",
    "    <running></running>\n",
    "  </instance>\n",
    "</instances>\n",
    "\n",
    "'''"
   ]
  },
  {
   "cell_type": "code",
   "execution_count": 10,
   "metadata": {
    "collapsed": true
   },
   "outputs": [],
   "source": [
    "isis_instances = isis.Instances()\n",
    "instance = isis_instances.Instance()\n",
    "instance.instance_name = \"sdn\"\n",
    "instance.is_type = \"level1\"\n",
    "instance.running = Empty()\n",
    "\n",
    "net = instance.nets.Net()\n",
    "net.net_name = \"49.0000.1720.1625.5101.00\"\n",
    "instance.nets.net.append(net)\n",
    "isis_instances.instance.append(instance)\n",
    "\n",
    "af = instance.afs.Af()\n",
    "# Note: The Enum types changed their name in the latest YDK version. \n",
    "# xr_clns_isis_cfg.IsisAddressFamilyEnum becomes xr_clns_isis_cfg.IsisAddressFamily.\n",
    "af.af_name = xr_clns_isis_datatypes.IsisAddressFamilyEnum.ipv4\n",
    "af.saf_name = xr_clns_isis_datatypes.IsisSubAddressFamilyEnum.unicast\n",
    "#afs = instance.afs.Af()\n",
    "#af.af_name = xr_clns_isis_datatypes.IsisAddressFamily.ipv6\n",
    "#af.saf_name = xr_clns_isis_datatypes.IsisSubAddressFamily.unicast\n",
    "\n",
    "af.af_data = af.AfData()\n",
    "metric_style = af.af_data.metric_styles.MetricStyle()\n",
    "\n",
    "metric_style.style = xr_clns_isis_cfg.IsisMetricStyleEnum.new_metric_style \n",
    "metric_style.level = xr_clns_isis_datatypes.IsisInternalLevelEnum.not_set\n",
    "transition_state = xr_clns_isis_cfg.IsisMetricStyleTransitionEnum.disabled\n",
    "metric_style.transition_state = transition_state\n",
    "af.af_data.metric_styles.metric_style.append(metric_style)\n",
    "\n",
    "instance.afs.af.append(af)\n",
    "\n",
    "# For this to work, the Loopback0 should exist!\n",
    "interface_names = [\"Loopback0\", \"GigabitEthernet0/0/0/0\"]\n",
    "for interface_name in interface_names:\n",
    "    # interface\n",
    "    interface = instance.interfaces.Interface()\n",
    "    interface.interface_name = interface_name\n",
    "    interface.running = Empty()\n",
    "    \n",
    "    # interface address family\n",
    "    interface_af = interface.interface_afs.InterfaceAf()\n",
    "    interface_af.af_name = xr_clns_isis_datatypes.IsisAddressFamilyEnum.ipv4\n",
    "    interface_af.saf_name = xr_clns_isis_datatypes.IsisSubAddressFamilyEnum.unicast\n",
    "    #interface_af.af_name = xr_clns_isis_datatypes.IsisAddressFamily.ipv6\n",
    "    #interface_af.saf_name = xr_clns_isis_datatypes.IsisSubAddressFamily.unicast\n",
    "    interface_af.interface_af_data.running = Empty()\n",
    "    interface.interface_afs.interface_af.append(interface_af)\n",
    "    instance.interfaces.interface.append(interface)"
   ]
  },
  {
   "cell_type": "code",
   "execution_count": 7,
   "metadata": {},
   "outputs": [
    {
     "name": "stdout",
     "output_type": "stream",
     "text": [
      "<instances xmlns=\"http://cisco.com/ns/yang/Cisco-IOS-XR-clns-isis-cfg\">\n",
      "  <instance>\n",
      "    <instance-name>sdn</instance-name>\n",
      "    <afs>\n",
      "      <af>\n",
      "        <af-name>ipv4</af-name>\n",
      "        <saf-name>unicast</saf-name>\n",
      "        <af-data>\n",
      "          <metric-styles>\n",
      "            <metric-style>\n",
      "              <level>not-set</level>\n",
      "              <style>new-metric-style</style>\n",
      "              <transition-state>disabled</transition-state>\n",
      "            </metric-style>\n",
      "          </metric-styles>\n",
      "        </af-data>\n",
      "      </af>\n",
      "    </afs>\n",
      "    <interfaces>\n",
      "      <interface>\n",
      "        <interface-name>Loopback0</interface-name>\n",
      "        <interface-afs>\n",
      "          <interface-af>\n",
      "            <af-name>ipv4</af-name>\n",
      "            <saf-name>unicast</saf-name>\n",
      "            <interface-af-data>\n",
      "              <running></running>\n",
      "            </interface-af-data>\n",
      "          </interface-af>\n",
      "        </interface-afs>\n",
      "        <running></running>\n",
      "      </interface>\n",
      "      <interface>\n",
      "        <interface-name>GigabitEthernet0/0/0/0</interface-name>\n",
      "        <interface-afs>\n",
      "          <interface-af>\n",
      "            <af-name>ipv4</af-name>\n",
      "            <saf-name>unicast</saf-name>\n",
      "            <interface-af-data>\n",
      "              <running></running>\n",
      "            </interface-af-data>\n",
      "          </interface-af>\n",
      "        </interface-afs>\n",
      "        <running></running>\n",
      "      </interface>\n",
      "    </interfaces>\n",
      "    <is-type>level1</is-type>\n",
      "    <nets>\n",
      "      <net>\n",
      "        <net-name>49.0000.1720.1625.5101.00</net-name>\n",
      "      </net>\n",
      "    </nets>\n",
      "    <running></running>\n",
      "  </instance>\n",
      "</instances>\n",
      "\n"
     ]
    }
   ],
   "source": [
    "print(codec.encode(cd_provider, isis_instances))"
   ]
  },
  {
   "cell_type": "code",
   "execution_count": 10,
   "metadata": {
    "collapsed": true
   },
   "outputs": [],
   "source": [
    "isis = crud.create(provider, isis_instances)"
   ]
  }
 ],
 "metadata": {
  "kernelspec": {
   "display_name": "Python 2",
   "language": "python",
   "name": "python2"
  },
  "language_info": {
   "codemirror_mode": {
    "name": "ipython",
    "version": 2
   },
   "file_extension": ".py",
   "mimetype": "text/x-python",
   "name": "python",
   "nbconvert_exporter": "python",
   "pygments_lexer": "ipython2",
   "version": "2.7.6"
  }
 },
 "nbformat": 4,
 "nbformat_minor": 2
}
